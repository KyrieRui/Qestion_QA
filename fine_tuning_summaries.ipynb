{
 "cells": [
  {
   "cell_type": "code",
   "execution_count": 4,
   "metadata": {},
   "outputs": [
    {
     "name": "stderr",
     "output_type": "stream",
     "text": [
      "/Users/zwang/myenv/lib/python3.9/site-packages/transformers/utils/generic.py:441: UserWarning: torch.utils._pytree._register_pytree_node is deprecated. Please use torch.utils._pytree.register_pytree_node instead.\n",
      "  _torch_pytree._register_pytree_node(\n",
      "/Users/zwang/myenv/lib/python3.9/site-packages/transformers/utils/generic.py:309: UserWarning: torch.utils._pytree._register_pytree_node is deprecated. Please use torch.utils._pytree.register_pytree_node instead.\n",
      "  _torch_pytree._register_pytree_node(\n"
     ]
    }
   ],
   "source": [
    "from datasets import load_dataset\n",
    "from transformers import AutoTokenizer\n",
    "from transformers import DataCollatorForSeq2Seq\n",
    "import evaluate\n",
    "import numpy as np\n",
    "from transformers import AutoModelForSeq2SeqLM, Seq2SeqTrainingArguments, Seq2SeqTrainer\n",
    "import torch\n",
    "\n"
   ]
  },
  {
   "cell_type": "code",
   "execution_count": 5,
   "metadata": {},
   "outputs": [
    {
     "name": "stdout",
     "output_type": "stream",
     "text": [
      "billsum size:  1237\n",
      "billsum size:  100\n"
     ]
    },
    {
     "data": {
      "text/plain": [
       "{'text': 'The people of the State of California do enact as follows:\\n\\n\\nSECTION 1.\\nSection 10820 of the Corporations Code is amended to read:\\n10820.\\n(a) “Health care service plan,” as used in this section means a corporation that is a health care service plan defined in the Knox-Keene Health Care Service Plan Act of 1975 (Chapter 2.2 (commencing with Section 1340) of Division 2 of the Health and Safety Code), other than a corporation that is exempted from that act by subdivision (c) of Section 1343 of the Health and Safety Code.\\n(b) A health care service plan may be formed under or subject to Part 2 (commencing with Section 5110) of this division or Part 3 (commencing with Section 7110) of this division.\\nSEC. 2.\\nSection 1343 of the Health and Safety Code is amended to read:\\n1343.\\n(a) This chapter shall apply to health care service plans and specialized health care service plan contracts as defined in subdivisions (f) and (o) of Section 1345.\\n(b) The director may by the adoption of rules or the issuance of orders deemed necessary and appropriate, either unconditionally or upon specified terms and conditions or for specified periods, exempt from this chapter any class of persons or plan contracts if the director finds the action to be in the public interest and not detrimental to the protection of subscribers, enrollees, or persons regulated under this chapter, and that the regulation of the persons or plan contracts is not essential to the purposes of this chapter.\\n(c) Upon the request of the Director of Health Care Services, the director may exempt from this chapter any mental health plan contractor or any capitated rate contract under Chapter 8.9 (commencing with Section 14700) of Part 3 of Division 9 of the Welfare and Institutions Code. Those exemptions may be subject to conditions the Director of Health Care Services deems appropriate.\\n(d) This chapter shall not apply to:\\n(1) A person organized and operating pursuant to a certificate issued by the Insurance Commissioner unless the entity is directly providing the health care service through those entity-owned or contracting health facilities and providers, in which case this chapter shall apply to the insurer’s plan and to the insurer.\\n(2) A plan directly operated by a bona fide public or private institution of higher learning which directly provides health care services only to its students, faculty, staff, administration, and their respective dependents.\\n(3) A person who does all of the following:\\n(A) Promises to provide care for life or for more than one year in return for a transfer of consideration from, or on behalf of, a person 60 years of age or older.\\n(B) Has obtained a written license pursuant to Chapter 2 (commencing with Section 1250) or Chapter 3.2 (commencing with Section 1569).\\n(C) Has obtained a certificate of authority from the State Department of Social Services.\\n(4) The Major Risk Medical Insurance Board when engaging in activities under Chapter 8 (commencing with Section 10700) of Part 2 of Division 2 of the Insurance Code, Part 6.3 (commencing with Section 12695) of Division 2 of the Insurance Code, and Part 6.5 (commencing with Section 12700) of Division 2 of the Insurance Code.\\n(5) The California Small Group Reinsurance Fund.\\nSEC. 3.\\nSection 101750.5 of the Health and Safety Code is amended to read:\\n101750.5.\\nFor the purposes of Division 3.6 (commencing with Section 810) of Title 1 of the Government Code, the authority shall be considered a public entity separate from the county or counties and shall file the statement required by Section 53051 of the Government Code.\\nSEC. 4.\\nSection 14087.95 of the Welfare and Institutions Code is repealed.\\nSEC. 5.\\nSection 14087.95 is added to the Welfare and Institutions Code, to read:\\n14087.95.\\nA\\n(a) Subject to subdivision (b), a\\ncounty contracting with the department pursuant to this article shall be deemed to be a health care service plan, as defined in Section 1345 of the Health and Safety Code, and shall be subject to the Knox-Keene Health Care Service Plan Act of 1975 (Chapter 2.2 (commencing with Section 1340) of Division 2 of the Health and Safety Code) for the purpose of carrying out those contracts, unless the act expressly provides otherwise.\\n(b) (1) A county organized health system under subdivision (a) that holds a license under the Knox-Keene Health Care Service Plan Act of 1975 on December 31, 2015, to provide the product described in subdivision (a), shall be subject to this section on and after January 1, 2016.\\n(2) A county organized health system under subdivision (a) that holds a license under the Knox-Keene Health Care Service Plan Act of 1975 on December 31, 2015, for any product not described in subdivision (a) that is subject to the act, shall be subject to this section on and after January 1, 2017.\\n(3)\\nA county organized health system under subdivision (a) that does not hold a license under the Knox-Keene Health Care Service Plan Act of 1975 on December 31, 2015, to provide the product described in subdivision (a) or any other product that is subject to the act, shall be subject to this section on and after July 1, 2017.\\nSEC. 6.\\nSection 14499.5 of the Welfare and Institutions Code is amended to read:\\n14499.5.\\n(a) (1) In carrying out the intent of this article, the director shall contract for the operation of one local pilot program. Special consideration shall be given to approving a program contracted through county government in Santa Barbara County.\\n(2) Notwithstanding the limitations contained in Section 14490, the director may enter into, or extend, contracts with the local pilot program in Santa Barbara County pursuant to paragraph (1) for periods that do not exceed three years.\\n(b) The establishment of a pilot program pursuant to this section shall be contingent upon the availability of state and federal funding. The program shall include the following components:\\n(1) Local authority for administration, fiscal management, and delivery of services, but not including eligibility determination.\\n(2) Physician case management.\\n(3) Cost containment through provider incentives and other means.\\n(c) The program for the pilot project shall include a plan and budget for delivery of services, administration, and evaluation. During the first year of the pilot program, the amount of the state contract shall equal 95 percent of total projected Medi-Cal expenditures for delivery of services and for administration based on fee-for-service conditions in the program county. During the remaining years of the pilot project Medi-Cal expenditures in the program county shall be no more than 100 percent of total projected expenditures for delivery of services and for administration based on any combination of the following paragraphs:\\n(1) Relevant prior fee-for-service Medi-Cal experience in the program county.\\n(2) The fee-for-service Medi-Cal experience in comparable counties or groups of counties.\\n(3) Medi-Cal experience of the pilot project in the program county if, as determined by the department, the scope, level, and duration of, and expenditures for, any services used in setting the rates under this paragraph would be comparable to fee-for-service conditions were they to exist in the program county and would be more actuarially reliable for use in ratesetting than data available for use in applying paragraph (1) or (2).\\nThe projected total expenditure shall be determined annually according to an acceptable actuarial process. The data elements used by the department shall be shared with the proposed contractor.\\n(d) The director shall accept or reject the proposal within 30 days after the date of receipt. If a decision is made to reject the proposal, the director shall set forth the reasons for this decision in writing. Upon approval of the proposal, a contract shall be written within 60 days. After signature by the local contractor, the State Department of Health Care Services and the Department of General Services shall execute the contract within 60 days.\\n(e) The director shall seek the necessary state and federal waivers to enable operation of the program. If the federal waivers for delivery of services under this plan are not granted, the department is under no obligation to contract for implementation of the program.\\n(f) Dental services may be included within the services provided in this pilot program.\\n(g) Any federal demonstration funding for this pilot program shall be made available to the county within 60 days upon notification of the award without the state retaining any portion not previously specified in the grant application as submitted.\\n(h) (1) (A) The department may negotiate exclusive contracts and rates with the Santa Barbara Regional Health Authority in the implementation of this section.\\n(B) Contracts entered into under this article may be on a noncompetitive bid basis and shall be exempt from Chapter 2 (commencing with Section 10290) of Part 2 of Division 2 of the Public Contract Code.\\n(C) The department shall enter into contracts pursuant to this article, and shall be bound by the terms and conditions related to the rates negotiated by the negotiator.\\n(2) The department shall implement this subdivision to the extent that the following apply:\\n(A) Its implementation does not revise the status of the pilot program as a federal demonstration project.\\n(B) Existing federal waivers apply to the pilot program as revised by this subdivision, or the federal government extends the applicability of the existing federal waivers or authorizes additional federal waivers for the implementation of the program.\\n(3) The implementation of this subdivision shall not affect the pilot program’s having met any of the requirements of Part 3.5 (commencing with Section 1175) of Division 1 of the Health and Safety Code and this division applicable to the pilot program with respect to the negotiations of contracts and rates by the department.\\nSEC. 7.\\nNo reimbursement is required by this act pursuant to Section 6 of Article XIII\\u2009B of the California Constitution because the only costs that may be incurred by a local agency or school district will be incurred because this act creates a new crime or infraction, eliminates a crime or infraction, or changes the penalty for a crime or infraction, within the meaning of Section 17556 of the Government Code, or changes the definition of a crime within the meaning of Section 6 of Article XIII\\u2009B of the California Constitution.',\n",
       " 'summary': 'Existing law provides for the Medi-Cal program, which is administered by the State Department of Health Care Services, under which qualified low-income individuals receive health care services. The Medi-Cal program is, in part, governed and funded by federal Medicaid Program provisions. One method by which these services are provided is pursuant to contracts with various types of managed care health plans, including through a county organized health system.\\nExisting law, the Knox-Keene Health Care Service Plan Act of 1975 (Knox-Keene), provides for the licensure and regulation of health care service plans by the Department of Managed Health Care and makes a willful violation of the act a crime.\\nExisting law provides the California Medical Assistance Commission with the authority to negotiate exclusive contracts with county organized health systems to provide health care services under the Medi-Cal program. Under existing law, the contracting counties are exempt from Knox-Keene for purposes of carrying out those contracts.\\nThis bill would repeal that exemption and\\ndeleted\\ndelete\\nrelated exemptions, deem a county contracting with the department under the provisions described above to be a health care service\\nplan,\\nplan as of specified dates,\\nand subject contracting counties to the act for purposes of carrying out those contracts, unless the act expressly provides otherwise. The bill would make conforming changes.\\nBecause a willful violation of Knox-Keene is a crime, this bill would impose a state-mandated local program.\\nThe California Constitution requires the state to reimburse local agencies and school districts for certain costs mandated by the state. Statutory provisions establish procedures for making that reimbursement.\\nThis bill would provide that no reimbursement is required by this act for a specified reason.',\n",
       " 'title': 'An act to amend Section 10820 of the Corporations Code, to amend Sections 1343 and 101750.5 of the Health and Safety Code, and to amend Section 14499.5 of, and to repeal and add Section 14087.95 of, the Welfare and Institutions Code, relating to Medi-Cal.'}"
      ]
     },
     "execution_count": 5,
     "metadata": {},
     "output_type": "execute_result"
    }
   ],
   "source": [
    "## Load data, but because my M1 Mac was too slow, I only used 100 examples for this demo\n",
    "billsum = load_dataset(\"billsum\", split=\"ca_test\")\n",
    "# print billsum size\n",
    "print(\"billsum size: \", len(billsum))\n",
    "\n",
    "# only keep 100 examples for this demo\n",
    "billsum = billsum.select(range(100))\n",
    "\n",
    "print(\"billsum size: \", len(billsum))\n",
    "billsum = billsum.train_test_split(test_size=0.2)\n",
    "billsum[\"train\"][0]"
   ]
  },
  {
   "cell_type": "code",
   "execution_count": 6,
   "metadata": {},
   "outputs": [],
   "source": [
    "## t5-small as checkpoint\n",
    "checkpoint = \"t5-small\"\n",
    "tokenizer = AutoTokenizer.from_pretrained(checkpoint)"
   ]
  },
  {
   "cell_type": "code",
   "execution_count": 7,
   "metadata": {},
   "outputs": [],
   "source": [
    "# add prefix and preprocess function\n",
    "prefix = \"summarize: \"\n",
    "\n",
    "def preprocess_function(examples):\n",
    "    inputs = [prefix + doc for doc in examples[\"text\"]]\n",
    "    model_inputs = tokenizer(inputs, max_length=512, truncation=True)\n",
    "\n",
    "    labels = tokenizer(text_target=examples[\"summary\"], max_length=128, truncation=True)\n",
    "\n",
    "    model_inputs[\"labels\"] = labels[\"input_ids\"]\n",
    "    return model_inputs\n"
   ]
  },
  {
   "cell_type": "code",
   "execution_count": 8,
   "metadata": {},
   "outputs": [
    {
     "data": {
      "application/vnd.jupyter.widget-view+json": {
       "model_id": "302bc13a498643b7b915ca8cc00a6239",
       "version_major": 2,
       "version_minor": 0
      },
      "text/plain": [
       "Map:   0%|          | 0/80 [00:00<?, ? examples/s]"
      ]
     },
     "metadata": {},
     "output_type": "display_data"
    },
    {
     "data": {
      "application/vnd.jupyter.widget-view+json": {
       "model_id": "e1189d7d30474aadbcaa84731be5bb2e",
       "version_major": 2,
       "version_minor": 0
      },
      "text/plain": [
       "Map:   0%|          | 0/20 [00:00<?, ? examples/s]"
      ]
     },
     "metadata": {},
     "output_type": "display_data"
    }
   ],
   "source": [
    "# preprocess data use map function can speed up the process\n",
    "tokenized_billsum = billsum.map(preprocess_function, batched=True)"
   ]
  },
  {
   "cell_type": "code",
   "execution_count": 9,
   "metadata": {},
   "outputs": [],
   "source": [
    "# Seq2Seq models are usually trained with a batch size of 16 or 32,\n",
    "data_collator = DataCollatorForSeq2Seq(tokenizer=tokenizer, model=checkpoint)"
   ]
  },
  {
   "cell_type": "code",
   "execution_count": 10,
   "metadata": {},
   "outputs": [],
   "source": [
    "# evaluate function use rouge metric\n",
    "rouge = evaluate.load(\"rouge\")"
   ]
  },
  {
   "cell_type": "code",
   "execution_count": 11,
   "metadata": {},
   "outputs": [],
   "source": [
    "# compute metrics\n",
    "def compute_metrics(eval_pred):\n",
    "    predictions, labels = eval_pred\n",
    "    decoded_preds = tokenizer.batch_decode(predictions, skip_special_tokens=True)\n",
    "    labels = np.where(labels != -100, labels, tokenizer.pad_token_id)\n",
    "    decoded_labels = tokenizer.batch_decode(labels, skip_special_tokens=True)\n",
    "\n",
    "    result = rouge.compute(predictions=decoded_preds, references=decoded_labels, use_stemmer=True)\n",
    "\n",
    "    prediction_lens = [np.count_nonzero(pred != tokenizer.pad_token_id) for pred in predictions]\n",
    "    result[\"gen_len\"] = np.mean(prediction_lens)\n",
    "\n",
    "    return {k: round(v, 4) for k, v in result.items()}"
   ]
  },
  {
   "cell_type": "code",
   "execution_count": 12,
   "metadata": {},
   "outputs": [],
   "source": [
    "# load teh Seq2Seq model\n",
    "model = AutoModelForSeq2SeqLM.from_pretrained(checkpoint)"
   ]
  },
  {
   "cell_type": "code",
   "execution_count": 13,
   "metadata": {},
   "outputs": [
    {
     "data": {
      "text/plain": [
       "device(type='mps')"
      ]
     },
     "execution_count": 13,
     "metadata": {},
     "output_type": "execute_result"
    }
   ],
   "source": [
    "# Because I am using M1 Mac, so set the device to mps, if you are using GPU, you can set it to cuda\n",
    "device = torch.device(\"mps\") if torch.backends.mps.is_available() else torch.device(\"cpu\")\n",
    "model.to(device)\n",
    "device"
   ]
  },
  {
   "cell_type": "code",
   "execution_count": 14,
   "metadata": {},
   "outputs": [],
   "source": [
    "## trainer setup\n",
    "training_args = Seq2SeqTrainingArguments(\n",
    "    output_dir=\"my_awesome_billsum_model\",\n",
    "    evaluation_strategy=\"epoch\",\n",
    "    learning_rate=2e-5,\n",
    "    per_device_train_batch_size=8,\n",
    "    per_device_eval_batch_size=8,\n",
    "    weight_decay=0.01,\n",
    "    save_total_limit=3,\n",
    "    num_train_epochs=20,\n",
    "    predict_with_generate=True,\n",
    "    fp16=False,\n",
    "    push_to_hub=True,\n",
    ")\n",
    "\n",
    "trainer = Seq2SeqTrainer(\n",
    "    model=model,\n",
    "    args=training_args,\n",
    "    train_dataset=tokenized_billsum[\"train\"],\n",
    "    eval_dataset=tokenized_billsum[\"test\"],\n",
    "    tokenizer=tokenizer,\n",
    "    data_collator=data_collator,\n",
    "    compute_metrics=compute_metrics,\n",
    ")"
   ]
  },
  {
   "cell_type": "code",
   "execution_count": 15,
   "metadata": {},
   "outputs": [
    {
     "data": {
      "application/vnd.jupyter.widget-view+json": {
       "model_id": "dad7f76160684537b992fde820b17049",
       "version_major": 2,
       "version_minor": 0
      },
      "text/plain": [
       "  0%|          | 0/200 [00:00<?, ?it/s]"
      ]
     },
     "metadata": {},
     "output_type": "display_data"
    },
    {
     "name": "stderr",
     "output_type": "stream",
     "text": [
      "You're using a T5TokenizerFast tokenizer. Please note that with a fast tokenizer, using the `__call__` method is faster than using a method to encode the text followed by a call to the `pad` method to get a padded encoding.\n",
      "/Users/zwang/myenv/lib/python3.9/site-packages/transformers/generation/utils.py:1273: UserWarning: Using the model-agnostic default `max_length` (=20) to control the generation length. We recommend setting `max_new_tokens` to control the maximum length of the generation.\n",
      "  warnings.warn(\n",
      "/Users/zwang/myenv/lib/python3.9/site-packages/transformers/generation/utils.py:2578: UserWarning: MPS: no support for int64 for min_max, downcasting to a smaller data type (int32/float32). Native support for int64 has been added in macOS 13.3. (Triggered internally at /Users/runner/work/pytorch/pytorch/pytorch/aten/src/ATen/native/mps/operations/ReduceOps.mm:621.)\n",
      "  if unfinished_sequences.max() == 0:\n"
     ]
    },
    {
     "data": {
      "application/vnd.jupyter.widget-view+json": {
       "model_id": "fa586cb6c33a48808d5059cce98ec083",
       "version_major": 2,
       "version_minor": 0
      },
      "text/plain": [
       "  0%|          | 0/3 [00:00<?, ?it/s]"
      ]
     },
     "metadata": {},
     "output_type": "display_data"
    },
    {
     "name": "stdout",
     "output_type": "stream",
     "text": [
      "{'eval_loss': 4.400156497955322, 'eval_rouge1': 0.1333, 'eval_rouge2': 0.0378, 'eval_rougeL': 0.1094, 'eval_rougeLsum': 0.109, 'eval_gen_len': 19.0, 'eval_runtime': 5.5328, 'eval_samples_per_second': 3.615, 'eval_steps_per_second': 0.542, 'epoch': 1.0}\n"
     ]
    },
    {
     "data": {
      "application/vnd.jupyter.widget-view+json": {
       "model_id": "2965e81c1f9f48198544f09ff8d7d195",
       "version_major": 2,
       "version_minor": 0
      },
      "text/plain": [
       "  0%|          | 0/3 [00:00<?, ?it/s]"
      ]
     },
     "metadata": {},
     "output_type": "display_data"
    },
    {
     "name": "stdout",
     "output_type": "stream",
     "text": [
      "{'eval_loss': 3.8224728107452393, 'eval_rouge1': 0.1325, 'eval_rouge2': 0.0351, 'eval_rougeL': 0.1085, 'eval_rougeLsum': 0.1081, 'eval_gen_len': 19.0, 'eval_runtime': 3.533, 'eval_samples_per_second': 5.661, 'eval_steps_per_second': 0.849, 'epoch': 2.0}\n"
     ]
    },
    {
     "data": {
      "application/vnd.jupyter.widget-view+json": {
       "model_id": "b44621a149d446ef9b085911f8da5823",
       "version_major": 2,
       "version_minor": 0
      },
      "text/plain": [
       "  0%|          | 0/3 [00:00<?, ?it/s]"
      ]
     },
     "metadata": {},
     "output_type": "display_data"
    },
    {
     "name": "stdout",
     "output_type": "stream",
     "text": [
      "{'eval_loss': 3.5342764854431152, 'eval_rouge1': 0.1343, 'eval_rouge2': 0.0361, 'eval_rougeL': 0.1109, 'eval_rougeLsum': 0.1109, 'eval_gen_len': 19.0, 'eval_runtime': 3.545, 'eval_samples_per_second': 5.642, 'eval_steps_per_second': 0.846, 'epoch': 3.0}\n"
     ]
    },
    {
     "data": {
      "application/vnd.jupyter.widget-view+json": {
       "model_id": "14559284f2af4a46bfa07dfe7bd0394d",
       "version_major": 2,
       "version_minor": 0
      },
      "text/plain": [
       "  0%|          | 0/3 [00:00<?, ?it/s]"
      ]
     },
     "metadata": {},
     "output_type": "display_data"
    },
    {
     "name": "stdout",
     "output_type": "stream",
     "text": [
      "{'eval_loss': 3.391953229904175, 'eval_rouge1': 0.1253, 'eval_rouge2': 0.0307, 'eval_rougeL': 0.1069, 'eval_rougeLsum': 0.1067, 'eval_gen_len': 19.0, 'eval_runtime': 3.4996, 'eval_samples_per_second': 5.715, 'eval_steps_per_second': 0.857, 'epoch': 4.0}\n"
     ]
    },
    {
     "data": {
      "application/vnd.jupyter.widget-view+json": {
       "model_id": "d74d507734c548e6a6a5b0c0b99cad2f",
       "version_major": 2,
       "version_minor": 0
      },
      "text/plain": [
       "  0%|          | 0/3 [00:00<?, ?it/s]"
      ]
     },
     "metadata": {},
     "output_type": "display_data"
    },
    {
     "name": "stdout",
     "output_type": "stream",
     "text": [
      "{'eval_loss': 3.28490948677063, 'eval_rouge1': 0.1239, 'eval_rouge2': 0.0275, 'eval_rougeL': 0.1028, 'eval_rougeLsum': 0.103, 'eval_gen_len': 19.0, 'eval_runtime': 3.5545, 'eval_samples_per_second': 5.627, 'eval_steps_per_second': 0.844, 'epoch': 5.0}\n"
     ]
    },
    {
     "data": {
      "application/vnd.jupyter.widget-view+json": {
       "model_id": "6d8459df58ba494da3be3308a010d8cd",
       "version_major": 2,
       "version_minor": 0
      },
      "text/plain": [
       "  0%|          | 0/3 [00:00<?, ?it/s]"
      ]
     },
     "metadata": {},
     "output_type": "display_data"
    },
    {
     "name": "stdout",
     "output_type": "stream",
     "text": [
      "{'eval_loss': 3.2041313648223877, 'eval_rouge1': 0.1227, 'eval_rouge2': 0.0237, 'eval_rougeL': 0.1015, 'eval_rougeLsum': 0.1016, 'eval_gen_len': 19.0, 'eval_runtime': 3.5236, 'eval_samples_per_second': 5.676, 'eval_steps_per_second': 0.851, 'epoch': 6.0}\n"
     ]
    },
    {
     "data": {
      "application/vnd.jupyter.widget-view+json": {
       "model_id": "63374acf88c4465c99a19abd9fe1cbfc",
       "version_major": 2,
       "version_minor": 0
      },
      "text/plain": [
       "  0%|          | 0/3 [00:00<?, ?it/s]"
      ]
     },
     "metadata": {},
     "output_type": "display_data"
    },
    {
     "name": "stdout",
     "output_type": "stream",
     "text": [
      "{'eval_loss': 3.143918037414551, 'eval_rouge1': 0.1234, 'eval_rouge2': 0.0218, 'eval_rougeL': 0.1022, 'eval_rougeLsum': 0.1023, 'eval_gen_len': 19.0, 'eval_runtime': 3.5146, 'eval_samples_per_second': 5.691, 'eval_steps_per_second': 0.854, 'epoch': 7.0}\n"
     ]
    },
    {
     "data": {
      "application/vnd.jupyter.widget-view+json": {
       "model_id": "36913f59c9b04cce9bf923c39ceaab3b",
       "version_major": 2,
       "version_minor": 0
      },
      "text/plain": [
       "  0%|          | 0/3 [00:00<?, ?it/s]"
      ]
     },
     "metadata": {},
     "output_type": "display_data"
    },
    {
     "name": "stdout",
     "output_type": "stream",
     "text": [
      "{'eval_loss': 3.097933769226074, 'eval_rouge1': 0.1286, 'eval_rouge2': 0.026, 'eval_rougeL': 0.1057, 'eval_rougeLsum': 0.106, 'eval_gen_len': 19.0, 'eval_runtime': 3.5316, 'eval_samples_per_second': 5.663, 'eval_steps_per_second': 0.849, 'epoch': 8.0}\n"
     ]
    },
    {
     "data": {
      "application/vnd.jupyter.widget-view+json": {
       "model_id": "b262d8f957854f69837677019f4b2317",
       "version_major": 2,
       "version_minor": 0
      },
      "text/plain": [
       "  0%|          | 0/3 [00:00<?, ?it/s]"
      ]
     },
     "metadata": {},
     "output_type": "display_data"
    },
    {
     "name": "stdout",
     "output_type": "stream",
     "text": [
      "{'eval_loss': 3.0624492168426514, 'eval_rouge1': 0.1298, 'eval_rouge2': 0.0289, 'eval_rougeL': 0.1048, 'eval_rougeLsum': 0.105, 'eval_gen_len': 19.0, 'eval_runtime': 3.6247, 'eval_samples_per_second': 5.518, 'eval_steps_per_second': 0.828, 'epoch': 9.0}\n"
     ]
    },
    {
     "data": {
      "application/vnd.jupyter.widget-view+json": {
       "model_id": "2eadb7607def4369958e96a27407dcf9",
       "version_major": 2,
       "version_minor": 0
      },
      "text/plain": [
       "  0%|          | 0/3 [00:00<?, ?it/s]"
      ]
     },
     "metadata": {},
     "output_type": "display_data"
    },
    {
     "name": "stdout",
     "output_type": "stream",
     "text": [
      "{'eval_loss': 3.0350544452667236, 'eval_rouge1': 0.1286, 'eval_rouge2': 0.0299, 'eval_rougeL': 0.105, 'eval_rougeLsum': 0.1053, 'eval_gen_len': 19.0, 'eval_runtime': 3.5485, 'eval_samples_per_second': 5.636, 'eval_steps_per_second': 0.845, 'epoch': 10.0}\n"
     ]
    },
    {
     "data": {
      "application/vnd.jupyter.widget-view+json": {
       "model_id": "3a8ba1950e564ebc8f0b13b03ca4da3f",
       "version_major": 2,
       "version_minor": 0
      },
      "text/plain": [
       "  0%|          | 0/3 [00:00<?, ?it/s]"
      ]
     },
     "metadata": {},
     "output_type": "display_data"
    },
    {
     "name": "stdout",
     "output_type": "stream",
     "text": [
      "{'eval_loss': 3.013465404510498, 'eval_rouge1': 0.1292, 'eval_rouge2': 0.0288, 'eval_rougeL': 0.1066, 'eval_rougeLsum': 0.1068, 'eval_gen_len': 19.0, 'eval_runtime': 3.497, 'eval_samples_per_second': 5.719, 'eval_steps_per_second': 0.858, 'epoch': 11.0}\n"
     ]
    },
    {
     "data": {
      "application/vnd.jupyter.widget-view+json": {
       "model_id": "75bd887ceb544ac7b0c7ff397a4566e0",
       "version_major": 2,
       "version_minor": 0
      },
      "text/plain": [
       "  0%|          | 0/3 [00:00<?, ?it/s]"
      ]
     },
     "metadata": {},
     "output_type": "display_data"
    },
    {
     "name": "stdout",
     "output_type": "stream",
     "text": [
      "{'eval_loss': 2.995612621307373, 'eval_rouge1': 0.1148, 'eval_rouge2': 0.0195, 'eval_rougeL': 0.0942, 'eval_rougeLsum': 0.0938, 'eval_gen_len': 19.0, 'eval_runtime': 3.4929, 'eval_samples_per_second': 5.726, 'eval_steps_per_second': 0.859, 'epoch': 12.0}\n"
     ]
    },
    {
     "data": {
      "application/vnd.jupyter.widget-view+json": {
       "model_id": "6bad71870ae645b39e38ab3d63a413ab",
       "version_major": 2,
       "version_minor": 0
      },
      "text/plain": [
       "  0%|          | 0/3 [00:00<?, ?it/s]"
      ]
     },
     "metadata": {},
     "output_type": "display_data"
    },
    {
     "name": "stdout",
     "output_type": "stream",
     "text": [
      "{'eval_loss': 2.9813499450683594, 'eval_rouge1': 0.1167, 'eval_rouge2': 0.0195, 'eval_rougeL': 0.0943, 'eval_rougeLsum': 0.0939, 'eval_gen_len': 19.0, 'eval_runtime': 3.527, 'eval_samples_per_second': 5.671, 'eval_steps_per_second': 0.851, 'epoch': 13.0}\n"
     ]
    },
    {
     "data": {
      "application/vnd.jupyter.widget-view+json": {
       "model_id": "842d952d104341649016d19bb64161a3",
       "version_major": 2,
       "version_minor": 0
      },
      "text/plain": [
       "  0%|          | 0/3 [00:00<?, ?it/s]"
      ]
     },
     "metadata": {},
     "output_type": "display_data"
    },
    {
     "name": "stdout",
     "output_type": "stream",
     "text": [
      "{'eval_loss': 2.9697329998016357, 'eval_rouge1': 0.1129, 'eval_rouge2': 0.0204, 'eval_rougeL': 0.0935, 'eval_rougeLsum': 0.093, 'eval_gen_len': 19.0, 'eval_runtime': 3.4875, 'eval_samples_per_second': 5.735, 'eval_steps_per_second': 0.86, 'epoch': 14.0}\n"
     ]
    },
    {
     "data": {
      "application/vnd.jupyter.widget-view+json": {
       "model_id": "603438c07df94a19964b65d7f59067cc",
       "version_major": 2,
       "version_minor": 0
      },
      "text/plain": [
       "  0%|          | 0/3 [00:00<?, ?it/s]"
      ]
     },
     "metadata": {},
     "output_type": "display_data"
    },
    {
     "name": "stdout",
     "output_type": "stream",
     "text": [
      "{'eval_loss': 2.960644483566284, 'eval_rouge1': 0.1129, 'eval_rouge2': 0.0204, 'eval_rougeL': 0.0935, 'eval_rougeLsum': 0.093, 'eval_gen_len': 19.0, 'eval_runtime': 3.5006, 'eval_samples_per_second': 5.713, 'eval_steps_per_second': 0.857, 'epoch': 15.0}\n"
     ]
    },
    {
     "data": {
      "application/vnd.jupyter.widget-view+json": {
       "model_id": "ee0ea9dea19046b29c4db2dfd7352866",
       "version_major": 2,
       "version_minor": 0
      },
      "text/plain": [
       "  0%|          | 0/3 [00:00<?, ?it/s]"
      ]
     },
     "metadata": {},
     "output_type": "display_data"
    },
    {
     "name": "stdout",
     "output_type": "stream",
     "text": [
      "{'eval_loss': 2.953394651412964, 'eval_rouge1': 0.1125, 'eval_rouge2': 0.0198, 'eval_rougeL': 0.0934, 'eval_rougeLsum': 0.0931, 'eval_gen_len': 19.0, 'eval_runtime': 3.5039, 'eval_samples_per_second': 5.708, 'eval_steps_per_second': 0.856, 'epoch': 16.0}\n"
     ]
    },
    {
     "data": {
      "application/vnd.jupyter.widget-view+json": {
       "model_id": "e7af451977db4ce5bb2c1e642ad7ac6a",
       "version_major": 2,
       "version_minor": 0
      },
      "text/plain": [
       "  0%|          | 0/3 [00:00<?, ?it/s]"
      ]
     },
     "metadata": {},
     "output_type": "display_data"
    },
    {
     "name": "stdout",
     "output_type": "stream",
     "text": [
      "{'eval_loss': 2.9477615356445312, 'eval_rouge1': 0.1117, 'eval_rouge2': 0.0199, 'eval_rougeL': 0.0955, 'eval_rougeLsum': 0.0951, 'eval_gen_len': 19.0, 'eval_runtime': 3.5111, 'eval_samples_per_second': 5.696, 'eval_steps_per_second': 0.854, 'epoch': 17.0}\n"
     ]
    },
    {
     "data": {
      "application/vnd.jupyter.widget-view+json": {
       "model_id": "fd13ff7184a1480a881b395905282947",
       "version_major": 2,
       "version_minor": 0
      },
      "text/plain": [
       "  0%|          | 0/3 [00:00<?, ?it/s]"
      ]
     },
     "metadata": {},
     "output_type": "display_data"
    },
    {
     "name": "stdout",
     "output_type": "stream",
     "text": [
      "{'eval_loss': 2.94362735748291, 'eval_rouge1': 0.1117, 'eval_rouge2': 0.0199, 'eval_rougeL': 0.0955, 'eval_rougeLsum': 0.0951, 'eval_gen_len': 19.0, 'eval_runtime': 3.5118, 'eval_samples_per_second': 5.695, 'eval_steps_per_second': 0.854, 'epoch': 18.0}\n"
     ]
    },
    {
     "data": {
      "application/vnd.jupyter.widget-view+json": {
       "model_id": "3e3c15b84c1d4c0aa922510a1c676ef5",
       "version_major": 2,
       "version_minor": 0
      },
      "text/plain": [
       "  0%|          | 0/3 [00:00<?, ?it/s]"
      ]
     },
     "metadata": {},
     "output_type": "display_data"
    },
    {
     "name": "stdout",
     "output_type": "stream",
     "text": [
      "{'eval_loss': 2.9411141872406006, 'eval_rouge1': 0.1117, 'eval_rouge2': 0.0199, 'eval_rougeL': 0.0955, 'eval_rougeLsum': 0.0951, 'eval_gen_len': 19.0, 'eval_runtime': 3.4982, 'eval_samples_per_second': 5.717, 'eval_steps_per_second': 0.858, 'epoch': 19.0}\n"
     ]
    },
    {
     "data": {
      "application/vnd.jupyter.widget-view+json": {
       "model_id": "7339de628689440485231ee0c2d90acc",
       "version_major": 2,
       "version_minor": 0
      },
      "text/plain": [
       "  0%|          | 0/3 [00:00<?, ?it/s]"
      ]
     },
     "metadata": {},
     "output_type": "display_data"
    },
    {
     "name": "stdout",
     "output_type": "stream",
     "text": [
      "{'eval_loss': 2.9403185844421387, 'eval_rouge1': 0.1117, 'eval_rouge2': 0.0199, 'eval_rougeL': 0.0955, 'eval_rougeLsum': 0.0951, 'eval_gen_len': 19.0, 'eval_runtime': 3.5438, 'eval_samples_per_second': 5.644, 'eval_steps_per_second': 0.847, 'epoch': 20.0}\n",
      "{'train_runtime': 473.0661, 'train_samples_per_second': 3.382, 'train_steps_per_second': 0.423, 'train_loss': 3.460495910644531, 'epoch': 20.0}\n"
     ]
    },
    {
     "data": {
      "text/plain": [
       "TrainOutput(global_step=200, training_loss=3.460495910644531, metrics={'train_runtime': 473.0661, 'train_samples_per_second': 3.382, 'train_steps_per_second': 0.423, 'train_loss': 3.460495910644531, 'epoch': 20.0})"
      ]
     },
     "execution_count": 15,
     "metadata": {},
     "output_type": "execute_result"
    }
   ],
   "source": [
    "# start training\n",
    "trainer.train()"
   ]
  },
  {
   "cell_type": "code",
   "execution_count": 1,
   "metadata": {},
   "outputs": [
    {
     "data": {
      "application/vnd.jupyter.widget-view+json": {
       "model_id": "f02da10c52254366b4bf046e26fab4ee",
       "version_major": 2,
       "version_minor": 0
      },
      "text/plain": [
       "VBox(children=(HTML(value='<center> <img\\nsrc=https://huggingface.co/front/assets/huggingface_logo-noborder.sv…"
      ]
     },
     "metadata": {},
     "output_type": "display_data"
    }
   ],
   "source": [
    "# That just for push the model to hub after fine-tuning\n",
    "from huggingface_hub import notebook_login\n",
    "notebook_login()"
   ]
  },
  {
   "cell_type": "code",
   "execution_count": 16,
   "metadata": {},
   "outputs": [
    {
     "data": {
      "application/vnd.jupyter.widget-view+json": {
       "model_id": "c7a5e9a1b68442a09297f480a6b08cbd",
       "version_major": 2,
       "version_minor": 0
      },
      "text/plain": [
       "model.safetensors:   0%|          | 0.00/242M [00:00<?, ?B/s]"
      ]
     },
     "metadata": {},
     "output_type": "display_data"
    },
    {
     "data": {
      "application/vnd.jupyter.widget-view+json": {
       "model_id": "ec0e3d4ed30f40a8a02dfb811ad3f852",
       "version_major": 2,
       "version_minor": 0
      },
      "text/plain": [
       "training_args.bin:   0%|          | 0.00/4.73k [00:00<?, ?B/s]"
      ]
     },
     "metadata": {},
     "output_type": "display_data"
    },
    {
     "data": {
      "application/vnd.jupyter.widget-view+json": {
       "model_id": "b77ff7487ad64bf09296a1a7f25f1f6b",
       "version_major": 2,
       "version_minor": 0
      },
      "text/plain": [
       "Upload 3 LFS files:   0%|          | 0/3 [00:00<?, ?it/s]"
      ]
     },
     "metadata": {},
     "output_type": "display_data"
    },
    {
     "data": {
      "application/vnd.jupyter.widget-view+json": {
       "model_id": "1aa40bd6aafb4dbeb628b7c37645d1d2",
       "version_major": 2,
       "version_minor": 0
      },
      "text/plain": [
       "events.out.tfevents.1701042979.daruiruidekuailetong.local.19163.0:   0%|          | 0.00/16.0k [00:00<?, ?B/s]"
      ]
     },
     "metadata": {},
     "output_type": "display_data"
    },
    {
     "data": {
      "text/plain": [
       "'https://huggingface.co/KRayRay/my_awesome_billsum_model/tree/main/'"
      ]
     },
     "execution_count": 16,
     "metadata": {},
     "output_type": "execute_result"
    }
   ],
   "source": [
    "trainer.push_to_hub()"
   ]
  },
  {
   "cell_type": "code",
   "execution_count": 17,
   "metadata": {},
   "outputs": [
    {
     "name": "stderr",
     "output_type": "stream",
     "text": [
      "/Users/zwang/myenv/lib/python3.9/site-packages/transformers/utils/generic.py:309: UserWarning: torch.utils._pytree._register_pytree_node is deprecated. Please use torch.utils._pytree.register_pytree_node instead.\n",
      "  _torch_pytree._register_pytree_node(\n"
     ]
    },
    {
     "data": {
      "application/vnd.jupyter.widget-view+json": {
       "model_id": "46f13072d673417382ed95a47f72fd79",
       "version_major": 2,
       "version_minor": 0
      },
      "text/plain": [
       "model.safetensors:   0%|          | 0.00/242M [00:00<?, ?B/s]"
      ]
     },
     "metadata": {},
     "output_type": "display_data"
    },
    {
     "name": "stderr",
     "output_type": "stream",
     "text": [
      "Your max_length is set to 200, but your input_length is only 103. Since this is a summarization task, where outputs shorter than the input are typically wanted, you might consider decreasing max_length manually, e.g. summarizer('...', max_length=51)\n"
     ]
    },
    {
     "name": "stdout",
     "output_type": "stream",
     "text": [
      "[{'summary_text': \"the Inflation Reduction Act lowers prescription drug costs, health care costs, and energy costs . it's the most aggressive action on tackling the climate crisis in American history . no one making under $400,000 per year will pay a penny more in taxes.\"}]\n"
     ]
    }
   ],
   "source": [
    "# to try this model, you can use the following code\n",
    "from transformers import pipeline\n",
    "\n",
    "text = \"summarize: The Inflation Reduction Act lowers prescription drug costs, health care costs, and energy costs. It's the most aggressive action on tackling the climate crisis in American history, which will lift up American workers and create good-paying, union jobs across the country. It'll lower the deficit and ask the ultra-wealthy and corporations to pay their fair share. And no one making under $400,000 per year will pay a penny more in taxes.\"\n",
    "\n",
    "summarizer = pipeline(\"summarization\", model=\"KRayRay/my_awesome_billsum_model\")\n",
    "\n",
    "print(summarizer(text))"
   ]
  }
 ],
 "metadata": {
  "kernelspec": {
   "display_name": "myenv",
   "language": "python",
   "name": "python3"
  },
  "language_info": {
   "codemirror_mode": {
    "name": "ipython",
    "version": 3
   },
   "file_extension": ".py",
   "mimetype": "text/x-python",
   "name": "python",
   "nbconvert_exporter": "python",
   "pygments_lexer": "ipython3",
   "version": "3.9.18"
  },
  "orig_nbformat": 4
 },
 "nbformat": 4,
 "nbformat_minor": 2
}
